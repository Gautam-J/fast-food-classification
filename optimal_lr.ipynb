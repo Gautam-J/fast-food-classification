{
 "cells": [
  {
   "cell_type": "code",
   "execution_count": 1,
   "id": "cc08ec35",
   "metadata": {},
   "outputs": [],
   "source": [
    "import os\n",
    "import time\n",
    "import random\n",
    "import numpy as np\n",
    "import matplotlib.pyplot as plt\n",
    "from PIL import Image\n",
    "from torchinfo import summary\n",
    "\n",
    "import torch\n",
    "import torch.nn as nn\n",
    "import torch.nn.functional as F\n",
    "from torch.optim import Adam\n",
    "from torch.utils.data import DataLoader\n",
    "from torchvision import transforms\n",
    "from torchvision.io import read_image\n",
    "from torchvision.io import ImageReadMode\n",
    "from torchvision.utils import make_grid\n",
    "from torchvision.datasets import ImageFolder\n",
    "\n",
    "plt.style.use('seaborn')\n",
    "%matplotlib inline"
   ]
  },
  {
   "cell_type": "code",
   "execution_count": 2,
   "id": "b862f94c",
   "metadata": {},
   "outputs": [],
   "source": [
    "seed = 42\n",
    "n_channels = 1\n",
    "n_classes = 5\n",
    "n_epochs = 10\n",
    "n_workers = 8\n",
    "img_size = 28\n",
    "batch_size = 32\n",
    "learning_rate = 1e-3\n",
    "weight_decay = 0.0\n",
    "device = 'mps'\n",
    "device = torch.device(device)"
   ]
  },
  {
   "cell_type": "code",
   "execution_count": 3,
   "id": "4019f2f2",
   "metadata": {},
   "outputs": [
    {
     "name": "stdout",
     "output_type": "stream",
     "text": [
      "Seed set to 42\n"
     ]
    }
   ],
   "source": [
    "def set_seed(seed=42):\n",
    "    random.seed(seed)\n",
    "    np.random.seed(seed)\n",
    "    torch.manual_seed(seed)\n",
    "    print('Seed set to', seed)\n",
    "    \n",
    "    \n",
    "set_seed(seed)"
   ]
  },
  {
   "cell_type": "code",
   "execution_count": 4,
   "id": "739c758a",
   "metadata": {},
   "outputs": [],
   "source": [
    "transform = [\n",
    "    transforms.ToTensor(),\n",
    "    transforms.Resize((img_size, img_size)),\n",
    "    transforms.Pad(2, fill=0),\n",
    "    transforms.Normalize([0.5, 0.5, 0.5], [0.5, 0.5, 0.5])\n",
    "]\n",
    "\n",
    "if n_channels == 1:\n",
    "    transform.append(transforms.Grayscale())\n",
    "\n",
    "transform = transforms.Compose(transform)\n",
    "train_dataset = ImageFolder('./data/train/', transform=transform)\n",
    "train_dataloader = DataLoader(train_dataset,\n",
    "                              batch_size=batch_size,\n",
    "                              num_workers=n_workers,\n",
    "                              shuffle=True)"
   ]
  },
  {
   "cell_type": "code",
   "execution_count": 5,
   "id": "b0fc91c1",
   "metadata": {},
   "outputs": [
    {
     "name": "stdout",
     "output_type": "stream",
     "text": [
      "==========================================================================================\n",
      "Layer (type:depth-idx)                   Output Shape              Param #\n",
      "==========================================================================================\n",
      "Net                                      [32, 5]                   --\n",
      "├─Conv2d: 1-1                            [32, 6, 28, 28]           156\n",
      "├─AvgPool2d: 1-2                         [32, 6, 14, 14]           --\n",
      "├─Conv2d: 1-3                            [32, 16, 10, 10]          2,416\n",
      "├─AvgPool2d: 1-4                         [32, 16, 5, 5]            --\n",
      "├─Conv2d: 1-5                            [32, 120, 1, 1]           48,120\n",
      "├─Flatten: 1-6                           [32, 120]                 --\n",
      "├─Linear: 1-7                            [32, 84]                  10,164\n",
      "├─Linear: 1-8                            [32, 5]                   425\n",
      "==========================================================================================\n",
      "Total params: 61,281\n",
      "Trainable params: 61,281\n",
      "Non-trainable params: 0\n",
      "Total mult-adds (M): 13.52\n",
      "==========================================================================================\n",
      "Input size (MB): 0.13\n",
      "Forward/backward pass size (MB): 1.67\n",
      "Params size (MB): 0.25\n",
      "Estimated Total Size (MB): 2.04\n",
      "==========================================================================================\n"
     ]
    }
   ],
   "source": [
    "class Net(nn.Module):\n",
    "    \n",
    "    def __init__(self, n_channels, n_classes):\n",
    "        super(Net, self).__init__()\n",
    "\n",
    "        self.conv1 = nn.Conv2d(n_channels, 6,\n",
    "                               kernel_size=5,\n",
    "                               stride=1,\n",
    "                               padding='valid')\n",
    "        self.conv2 = nn.Conv2d(6, 16,\n",
    "                               kernel_size=5,\n",
    "                               stride=1,\n",
    "                               padding='valid')\n",
    "        self.conv3 = nn.Conv2d(16, 120,\n",
    "                               kernel_size=5,\n",
    "                               stride=1,\n",
    "                               padding='valid')\n",
    "        \n",
    "        self.avgpool = nn.AvgPool2d(kernel_size=2,\n",
    "                                    stride=2)\n",
    "        self.flatten = nn.Flatten()\n",
    "        self.linear1 = nn.Linear(120, 84)\n",
    "        self.out = nn.Linear(84, n_classes)\n",
    "        \n",
    "    def forward(self, x):\n",
    "        x = F.relu(self.conv1(x))\n",
    "        x = self.avgpool(x)\n",
    "        x = F.relu(self.conv2(x))\n",
    "        x = self.avgpool(x)\n",
    "        x = F.relu(self.conv3(x))\n",
    "        x = self.flatten(x)\n",
    "        x = F.relu(self.linear1(x))\n",
    "        output = self.out(x)\n",
    "        return output\n",
    "\n",
    "\n",
    "model = Net(n_channels, n_classes)\n",
    "print(summary(model, input_size=(batch_size, n_channels, 32, 32)))"
   ]
  },
  {
   "cell_type": "code",
   "execution_count": 24,
   "id": "d193855b",
   "metadata": {},
   "outputs": [
    {
     "data": {
      "image/png": "[encoded data removed]",
      "text/plain": [
       "<Figure size 800x550 with 1 Axes>"
      ]
     },
     "metadata": {},
     "output_type": "display_data"
    }
   ],
   "source": [
    "model.to(device)\n",
    "model.train()\n",
    "\n",
    "n_iters = 1000\n",
    "lre = torch.linspace(-1, 0, n_iters)\n",
    "lrs = 10**lre\n",
    "lossi = []\n",
    "\n",
    "data_iter = iter(train_dataloader) \n",
    "\n",
    "for i in range(n_iters):\n",
    "    try:\n",
    "        data = next(data_iter) \n",
    "    except StopIteration:\n",
    "        data_iter = iter(train_dataloader)\n",
    "        data = next(data_iter)\n",
    "\n",
    "    x, y = data\n",
    "    x, y = x.to(device), y.to(device)\n",
    "    \n",
    "    img = x[0].permute(1, 2, 0).cpu()\n",
    "    img = img * 0.5 + 0.5\n",
    "    plt.imshow(img)\n",
    "    plt.grid();\n",
    "    plt.show();\n",
    "\n",
    "    pred = model(x)\n",
    "    loss = F.cross_entropy(pred, y)\n",
    "\n",
    "    for p in model.parameters():\n",
    "        p.grad = None\n",
    "        \n",
    "    loss.backward()\n",
    "    \n",
    "    lr = lrs[i]\n",
    "    for p in model.parameters():\n",
    "        p.data += -lr * p.grad\n",
    "    \n",
    "    lossi.append(loss.item())\n",
    "    \n",
    "    break"
   ]
  },
  {
   "cell_type": "code",
   "execution_count": 22,
   "id": "1ecc95b6",
   "metadata": {
    "scrolled": false
   },
   "outputs": [
    {
     "ename": "RuntimeError",
     "evalue": "Expected 3D or 4D (batch mode) tensor with optional 0 dim batch size for input, but got:[1, 1, 0]",
     "output_type": "error",
     "traceback": [
      "\u001b[0;31m---------------------------------------------------------------------------\u001b[0m",
      "\u001b[0;31mRuntimeError\u001b[0m                              Traceback (most recent call last)",
      "Input \u001b[0;32mIn [22]\u001b[0m, in \u001b[0;36m<cell line: 1>\u001b[0;34m()\u001b[0m\n\u001b[0;32m----> 1\u001b[0m plt\u001b[38;5;241m.\u001b[39mplot(lre, \u001b[43mF\u001b[49m\u001b[38;5;241;43m.\u001b[39;49m\u001b[43mavg_pool1d\u001b[49m\u001b[43m(\u001b[49m\u001b[43mtorch\u001b[49m\u001b[38;5;241;43m.\u001b[39;49m\u001b[43mtensor\u001b[49m\u001b[43m(\u001b[49m\u001b[43m[\u001b[49m\u001b[43mlossi\u001b[49m\u001b[43m]\u001b[49m\u001b[43m)\u001b[49m\u001b[43m,\u001b[49m\u001b[43m \u001b[49m\u001b[43mkernel_size\u001b[49m\u001b[38;5;241;43m=\u001b[39;49m\u001b[43mbatch_size\u001b[49m\u001b[43m,\u001b[49m\u001b[43m \u001b[49m\u001b[43mstride\u001b[49m\u001b[38;5;241;43m=\u001b[39;49m\u001b[38;5;241;43m1\u001b[39;49m\u001b[43m)\u001b[49m\u001b[38;5;241m.\u001b[39mview(\u001b[38;5;241m-\u001b[39m\u001b[38;5;241m1\u001b[39m,))\n",
      "\u001b[0;31mRuntimeError\u001b[0m: Expected 3D or 4D (batch mode) tensor with optional 0 dim batch size for input, but got:[1, 1, 0]"
     ]
    }
   ],
   "source": [
    "plt.plot(lre, F.avg_pool1d(torch.tensor([lossi]), kernel_size=batch_size, stride=1).view(-1,));"
   ]
  }
 ],
 "metadata": {
  "kernelspec": {
   "display_name": "Python 3 (ipykernel)",
   "language": "python",
   "name": "python3"
  },
  "language_info": {
   "codemirror_mode": {
    "name": "ipython",
    "version": 3
   },
   "file_extension": ".py",
   "mimetype": "text/x-python",
   "name": "python",
   "nbconvert_exporter": "python",
   "pygments_lexer": "ipython3",
   "version": "3.9.13"
  }
 },
 "nbformat": 4,
 "nbformat_minor": 5
}
